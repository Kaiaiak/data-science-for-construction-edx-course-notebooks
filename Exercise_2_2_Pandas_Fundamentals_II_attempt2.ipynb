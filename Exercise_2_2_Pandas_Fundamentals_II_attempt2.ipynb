{
  "nbformat": 4,
  "nbformat_minor": 0,
  "metadata": {
    "colab": {
      "name": "Exercise 2.2 - Pandas Fundamentals II",
      "provenance": [],
      "collapsed_sections": [],
      "include_colab_link": true
    },
    "kernelspec": {
      "name": "python3",
      "display_name": "Python 3"
    }
  },
  "cells": [
    {
      "cell_type": "markdown",
      "metadata": {
        "id": "view-in-github",
        "colab_type": "text"
      },
      "source": [
        "<a href=\"https://colab.research.google.com/github/Kaiaiak/data-science-for-construction-edx-course-notebooks/blob/master/Exercise_2_2_Pandas_Fundamentals_II_attempt2.ipynb\" target=\"_parent\"><img src=\"https://colab.research.google.com/assets/colab-badge.svg\" alt=\"Open In Colab\"/></a>"
      ]
    },
    {
      "cell_type": "markdown",
      "metadata": {
        "id": "mQlkWmvx7J9r"
      },
      "source": [
        "# Data Science for Construction, Architecture and Engineering\n",
        "\n",
        "### Week 2 - Building Design Phase - Intro to Pandas\n",
        "\n",
        "### Exercise Set 2.2 - Pandas Fundamentals II\n",
        "\n",
        "This set of exercises is the second of two sets for Week 2. These exercises are designed to give you some hands on experience in trying out the concepts from the second set of videos for this week.\n",
        "\n",
        "There is an introduction video available to explain the process of using this exercise video.\n",
        "\n",
        "The lead developer of this exercise is Matias Quintana, a Ph.D. student at NUS and a teaching assistant of this course. "
      ]
    },
    {
      "cell_type": "markdown",
      "metadata": {
        "id": "4rVMs5nJMWRF"
      },
      "source": [
        "# Exercise 02.2\n",
        "\n",
        "There are three exercises in this set, each one slightly more advanced uses of the [Pandas library](https://pandas.pydata.org/).\n",
        "\n",
        "### Please note that you will need to use the resultant output from Exercise 02.2.3 for the Quiz 2.2."
      ]
    },
    {
      "cell_type": "markdown",
      "metadata": {
        "id": "A3KaS5J7YSN1"
      },
      "source": [
        "First, we will help by importing the files the libraries you will need on this notebook:"
      ]
    },
    {
      "cell_type": "code",
      "metadata": {
        "id": "45mbhhftok3k"
      },
      "source": [
        "import pandas as pd\n",
        "import os\n",
        "from google.colab import drive"
      ],
      "execution_count": 1,
      "outputs": []
    },
    {
      "cell_type": "markdown",
      "metadata": {
        "id": "D_DZ1BPjZpkA"
      },
      "source": [
        "And mount the google drive folder"
      ]
    },
    {
      "cell_type": "code",
      "metadata": {
        "id": "tCbnv7nUZtUs",
        "colab": {
          "base_uri": "https://localhost:8080/"
        },
        "outputId": "188e5ab4-763c-41ee-e41c-204f4ae663d0"
      },
      "source": [
        "drive.mount('/content/gdrive')\n",
        "os.chdir(\"/content/gdrive/My Drive/EDX Data Science for Construction, Architecture and Engineering/2 - Building Design - Intro to Pandas/simulation_data\")"
      ],
      "execution_count": 81,
      "outputs": [
        {
          "output_type": "stream",
          "name": "stdout",
          "text": [
            "Drive already mounted at /content/gdrive; to attempt to forcibly remount, call drive.mount(\"/content/gdrive\", force_remount=True).\n"
          ]
        }
      ]
    },
    {
      "cell_type": "markdown",
      "metadata": {
        "id": "GmfxfuNhMkt4"
      },
      "source": [
        "## Exercise 02.2.1 - Load multiples files and concatenate them"
      ]
    },
    {
      "cell_type": "markdown",
      "metadata": {
        "id": "fzoU_TViibX7"
      },
      "source": [
        "As a data scientist in the built environment, you may want to compare different simulation scenarios with a baseline in order to aid the decision making of the stakeholders. By doing this, you can provide better insights to the design team in terms of which strategy is less energy heavy.\n",
        "\n",
        "The first thing we can do is load all the different scenarios alongside the baseline together. As you saw on the videos, one feature of interative python notebooks is the ability to run UNIX commands, such as `ls`:\n"
      ]
    },
    {
      "cell_type": "code",
      "metadata": {
        "id": "8rZZYtyLMqsN",
        "colab": {
          "base_uri": "https://localhost:8080/"
        },
        "outputId": "712a1478-bade-410a-c80e-42ed309589b2"
      },
      "source": [
        "ls\n"
      ],
      "execution_count": 5,
      "outputs": [
        {
          "output_type": "stream",
          "name": "stdout",
          "text": [
            " Baseline.csv                      'Scenario - Increase Setpoint.csv'\n",
            " Baseline.xlsx                     'Scenario - Low-E Glass.csv'\n",
            "'Scenario - Aircon Schedules.csv'  'Scenario - Rooftop Gardens.csv'\n",
            "'Scenario - Cool roof.csv'\n"
          ]
        }
      ]
    },
    {
      "cell_type": "code",
      "metadata": {
        "id": "Yg3R_ogMmK83",
        "colab": {
          "base_uri": "https://localhost:8080/"
        },
        "outputId": "dcd2f3ad-3e83-499f-c8d8-231fb71860d7"
      },
      "source": [
        "# when `ls` is ran on a cell with python code, there should be a `!` in front of it\n",
        "print(\"some python code\")\n",
        "!ls\n"
      ],
      "execution_count": 6,
      "outputs": [
        {
          "output_type": "stream",
          "name": "stdout",
          "text": [
            "some python code\n",
            " Baseline.csv\t\t\t   'Scenario - Increase Setpoint.csv'\n",
            " Baseline.xlsx\t\t\t   'Scenario - Low-E Glass.csv'\n",
            "'Scenario - Aircon Schedules.csv'  'Scenario - Rooftop Gardens.csv'\n",
            "'Scenario - Cool roof.csv'\n"
          ]
        }
      ]
    },
    {
      "cell_type": "markdown",
      "metadata": {
        "id": "GX2Mqao2Z4zg"
      },
      "source": [
        "This command lists the contents of a given directory. In your case, is listing the contents of the current directory on which you arrived after mounting the gdrive."
      ]
    },
    {
      "cell_type": "markdown",
      "metadata": {
        "id": "oQoDkJ0zNEis"
      },
      "source": [
        "You have already used `.read_csv()` to load a single file, now you are tasked to write a program that loads all the `.csv` files shown by the `ls` command. \n",
        "\n",
        "In this exercise go ahead and try loading and manipulating all the scenario files, this time using a **function**.\n",
        "\n",
        "The function is called `load_all_csv` and the input is a list of string with the file names.\n",
        "\n",
        "After implementing it, you would only need to run the following one-liner `all_data = load_all_csv(files_names)` to load all the data properly, assuming `file_names` contains the **string** names of all the `csv` files you want .\n",
        "\n",
        "Complete the function below and verify the files are loaded into `all_data`.\n",
        "\n",
        "Use this first code cell to define your function:\n"
      ]
    },
    {
      "cell_type": "code",
      "metadata": {
        "id": "pGipw2_GpFAa",
        "colab": {
          "base_uri": "https://localhost:8080/"
        },
        "outputId": "cd201a87-2584-4bb9-854c-ac6649abc113"
      },
      "source": [
        "def load_all_csv(files_names):\n",
        "  files_names = os.listdir()\n",
        "  return files_names\n",
        "\n",
        "files_names = os.listdir()\n",
        "all_data = load_all_csv(files_names)\n",
        "\n",
        "print(all_data)\n"
      ],
      "execution_count": 92,
      "outputs": [
        {
          "output_type": "stream",
          "name": "stdout",
          "text": [
            "['Scenario - Increase Setpoint.csv', 'Scenario - Aircon Schedules.csv', 'Scenario - Rooftop Gardens.csv', 'Scenario - Low-E Glass.csv', 'Scenario - Cool roof.csv', 'Baseline.csv', 'Baseline.xlsx']\n"
          ]
        }
      ]
    },
    {
      "cell_type": "code",
      "metadata": {
        "id": "NuOrh3_dcBf6",
        "colab": {
          "base_uri": "https://localhost:8080/",
          "height": 596
        },
        "outputId": "38875065-fdfb-4099-9ae4-a670a24ebcc3"
      },
      "source": [
        "# Use the function you just defined and load all the files\n",
        "# YOUR CODE HERE\n",
        "combined_data = []\n",
        "for filename in all_data:\n",
        "  if filename.endswith('csv'):\n",
        "    #print(filename) \n",
        "    df = pd.read_csv(filename, index_col='Month')\n",
        "    combined_data.append(df)\n",
        "all_data = pd.concat(combined_data,axis=1)\n",
        "all_data"
      ],
      "execution_count": 93,
      "outputs": [
        {
          "output_type": "stream",
          "name": "stdout",
          "text": [
            "Scenario - Increase Setpoint.csv\n",
            "Scenario - Aircon Schedules.csv\n",
            "Scenario - Rooftop Gardens.csv\n",
            "Scenario - Low-E Glass.csv\n",
            "Scenario - Cool roof.csv\n",
            "Baseline.csv\n"
          ]
        },
        {
          "output_type": "execute_result",
          "data": {
            "text/html": [
              "<div>\n",
              "<style scoped>\n",
              "    .dataframe tbody tr th:only-of-type {\n",
              "        vertical-align: middle;\n",
              "    }\n",
              "\n",
              "    .dataframe tbody tr th {\n",
              "        vertical-align: top;\n",
              "    }\n",
              "\n",
              "    .dataframe thead th {\n",
              "        text-align: right;\n",
              "    }\n",
              "</style>\n",
              "<table border=\"1\" class=\"dataframe\">\n",
              "  <thead>\n",
              "    <tr style=\"text-align: right;\">\n",
              "      <th></th>\n",
              "      <th>Scenario - Increase Setpoint</th>\n",
              "      <th>Scenario - Aircon Schedules</th>\n",
              "      <th>Scenario - Rooftop Gardens</th>\n",
              "      <th>Scenario - Low-E Glass</th>\n",
              "      <th>Scenario - Cool roof</th>\n",
              "      <th>Baseline</th>\n",
              "    </tr>\n",
              "    <tr>\n",
              "      <th>Month</th>\n",
              "      <th></th>\n",
              "      <th></th>\n",
              "      <th></th>\n",
              "      <th></th>\n",
              "      <th></th>\n",
              "      <th></th>\n",
              "    </tr>\n",
              "  </thead>\n",
              "  <tbody>\n",
              "    <tr>\n",
              "      <th>January</th>\n",
              "      <td>2.73</td>\n",
              "      <td>5.61</td>\n",
              "      <td>6.30</td>\n",
              "      <td>5.41</td>\n",
              "      <td>4.46</td>\n",
              "      <td>5.69</td>\n",
              "    </tr>\n",
              "    <tr>\n",
              "      <th>February</th>\n",
              "      <td>3.88</td>\n",
              "      <td>6.50</td>\n",
              "      <td>7.15</td>\n",
              "      <td>6.48</td>\n",
              "      <td>5.39</td>\n",
              "      <td>6.75</td>\n",
              "    </tr>\n",
              "    <tr>\n",
              "      <th>March</th>\n",
              "      <td>6.60</td>\n",
              "      <td>9.70</td>\n",
              "      <td>10.90</td>\n",
              "      <td>10.37</td>\n",
              "      <td>8.96</td>\n",
              "      <td>10.64</td>\n",
              "    </tr>\n",
              "    <tr>\n",
              "      <th>April</th>\n",
              "      <td>9.37</td>\n",
              "      <td>11.95</td>\n",
              "      <td>13.59</td>\n",
              "      <td>13.36</td>\n",
              "      <td>11.73</td>\n",
              "      <td>13.60</td>\n",
              "    </tr>\n",
              "    <tr>\n",
              "      <th>May</th>\n",
              "      <td>14.82</td>\n",
              "      <td>16.52</td>\n",
              "      <td>18.94</td>\n",
              "      <td>19.14</td>\n",
              "      <td>17.28</td>\n",
              "      <td>19.34</td>\n",
              "    </tr>\n",
              "    <tr>\n",
              "      <th>June</th>\n",
              "      <td>18.01</td>\n",
              "      <td>18.89</td>\n",
              "      <td>22.12</td>\n",
              "      <td>22.47</td>\n",
              "      <td>20.54</td>\n",
              "      <td>22.64</td>\n",
              "    </tr>\n",
              "    <tr>\n",
              "      <th>July</th>\n",
              "      <td>21.98</td>\n",
              "      <td>22.13</td>\n",
              "      <td>26.29</td>\n",
              "      <td>26.84</td>\n",
              "      <td>24.76</td>\n",
              "      <td>27.02</td>\n",
              "    </tr>\n",
              "    <tr>\n",
              "      <th>August</th>\n",
              "      <td>22.15</td>\n",
              "      <td>22.14</td>\n",
              "      <td>26.47</td>\n",
              "      <td>26.91</td>\n",
              "      <td>24.97</td>\n",
              "      <td>27.13</td>\n",
              "    </tr>\n",
              "    <tr>\n",
              "      <th>September</th>\n",
              "      <td>19.92</td>\n",
              "      <td>20.38</td>\n",
              "      <td>24.63</td>\n",
              "      <td>24.77</td>\n",
              "      <td>22.98</td>\n",
              "      <td>25.04</td>\n",
              "    </tr>\n",
              "    <tr>\n",
              "      <th>October</th>\n",
              "      <td>13.65</td>\n",
              "      <td>15.87</td>\n",
              "      <td>18.51</td>\n",
              "      <td>18.16</td>\n",
              "      <td>16.57</td>\n",
              "      <td>18.47</td>\n",
              "    </tr>\n",
              "    <tr>\n",
              "      <th>November</th>\n",
              "      <td>8.49</td>\n",
              "      <td>11.71</td>\n",
              "      <td>13.55</td>\n",
              "      <td>12.69</td>\n",
              "      <td>11.41</td>\n",
              "      <td>13.02</td>\n",
              "    </tr>\n",
              "    <tr>\n",
              "      <th>December</th>\n",
              "      <td>4.15</td>\n",
              "      <td>7.16</td>\n",
              "      <td>8.19</td>\n",
              "      <td>7.24</td>\n",
              "      <td>6.36</td>\n",
              "      <td>7.53</td>\n",
              "    </tr>\n",
              "  </tbody>\n",
              "</table>\n",
              "</div>"
            ],
            "text/plain": [
              "           Scenario - Increase Setpoint  ...  Baseline\n",
              "Month                                    ...          \n",
              "January                            2.73  ...      5.69\n",
              "February                           3.88  ...      6.75\n",
              "March                              6.60  ...     10.64\n",
              "April                              9.37  ...     13.60\n",
              "May                               14.82  ...     19.34\n",
              "June                              18.01  ...     22.64\n",
              "July                              21.98  ...     27.02\n",
              "August                            22.15  ...     27.13\n",
              "September                         19.92  ...     25.04\n",
              "October                           13.65  ...     18.47\n",
              "November                           8.49  ...     13.02\n",
              "December                           4.15  ...      7.53\n",
              "\n",
              "[12 rows x 6 columns]"
            ]
          },
          "metadata": {},
          "execution_count": 93
        }
      ]
    },
    {
      "cell_type": "markdown",
      "metadata": {
        "id": "QVPxq_08rb5n"
      },
      "source": [
        "## Exercise 02.2.2 - Dataframe column slicing\n",
        "Sometimes, even if you have all the data we want to compare in one single dataframe, you may want to analyse specific columns rather than all of them. "
      ]
    },
    {
      "cell_type": "markdown",
      "metadata": {
        "id": "iSmdxmRDveug"
      },
      "source": [
        "In this exercise, write some lines of codes that creates a new dataframe containing only data from the `Baseline` and the simulation scenarios regarding **scheduling** and **setpoint** operation.\n"
      ]
    },
    {
      "cell_type": "markdown",
      "metadata": {
        "id": "t67Te4zPjdg1"
      },
      "source": [
        "**Hint**: Look at the instruction code in Exercise 02.01.3 for a reference on how to select a single column.\n"
      ]
    },
    {
      "cell_type": "markdown",
      "metadata": {
        "id": "vicpfE5ijm6C"
      },
      "source": [
        "**Hint**: Remember that when you want to group variables is better to treat them as a list `['a','b']` instead of just two independant variables `'a','b'`. Notice the square brackets."
      ]
    },
    {
      "cell_type": "code",
      "metadata": {
        "id": "JA4l4fuApnNI",
        "colab": {
          "base_uri": "https://localhost:8080/"
        },
        "outputId": "8cb8c217-cab5-4275-d60c-00f29a7f323f"
      },
      "source": [
        "# Select only the baseline and simulation scenarios asked above\n",
        "# YOUR CODE HERE\n",
        "\n",
        "all_data[['Scenario - Rooftop Gardens','Scenario - Low-E Glass','Scenario - Cool roof']]\n",
        "\n",
        "all_data.info()"
      ],
      "execution_count": 33,
      "outputs": [
        {
          "output_type": "stream",
          "name": "stdout",
          "text": [
            "<class 'pandas.core.frame.DataFrame'>\n",
            "Index: 12 entries, January to December\n",
            "Data columns (total 6 columns):\n",
            " #   Column                        Non-Null Count  Dtype  \n",
            "---  ------                        --------------  -----  \n",
            " 0   Scenario - Increase Setpoint  12 non-null     float64\n",
            " 1   Scenario - Aircon Schedules   12 non-null     float64\n",
            " 2   Scenario - Rooftop Gardens    12 non-null     float64\n",
            " 3   Scenario - Low-E Glass        12 non-null     float64\n",
            " 4   Scenario - Cool roof          12 non-null     float64\n",
            " 5   Baseline                      12 non-null     float64\n",
            "dtypes: float64(6)\n",
            "memory usage: 992.0+ bytes\n"
          ]
        }
      ]
    },
    {
      "cell_type": "markdown",
      "metadata": {
        "id": "DB6p9FHsr9WX"
      },
      "source": [
        "## Exercise 02.2.3 - Calculate maximum value across rows and columns\n",
        "In this last exercise, let's create an analysis of the `Baseline` and the simulation scenarios chosen before. \n",
        "\n",
        "For **each month**, find the scenario (column) with the **lowest** consumption value. Then, in order to calculate the **energy savings** potential of this scenario **on this month**, find the scenario (column) with the **highest** value. The energy savings percentage can be then calculated as one minus the ratio of these values all multiplied by 100. You save these values in the list `savings`.\n",
        "\n",
        "Finally, report the `maximum` percentage of energy savings, across all months, as well as the **month** where this is achieved.\n"
      ]
    },
    {
      "cell_type": "markdown",
      "metadata": {
        "id": "14JhcgLNlnCL"
      },
      "source": [
        "**Hint**: One way to select specific rows in a dataframe is by choosing the index with the function `.iloc[]`. This function accepts arguments in the form of `row_indices` or `row_indices, column_indices` (indices start with 0 in Python). Remember that execution the same action multiple times (Calculating the savings percentage, can be automated in a `for loop`"
      ]
    },
    {
      "cell_type": "code",
      "metadata": {
        "id": "Qt5cskNs05H1",
        "colab": {
          "base_uri": "https://localhost:8080/",
          "height": 149
        },
        "outputId": "07502e27-98a6-4111-b62f-4d1221c59693"
      },
      "source": [
        "#def energy(lowest_consumption, highest_consumption):\n",
        " #   savings = []\n",
        "  #  for value in month:                             #The name should match the parameter in the function.\n",
        "   #   df = pd.Series.min(value)     #Find min in each row\n",
        "    #  df.loc[]                              #Create a list with all the dataframes previously read\n",
        "    #savings = pd.concat(savings, axis = 1)            #Concatenate all dfs\n",
        "    #return savings                                    #Returns the concatenation of all dfs as a single dataframe\n",
        "\n",
        "#percentage = savings\n",
        "\n",
        "#savings = energy(percentage)\n",
        "\n",
        "savings = []\n",
        "\n",
        "months = base_sched_setpt.index\n",
        "print(months)\n",
        "for months in base_sched_setpt:\n",
        "  df.loc[months, 'savings'] = base_sched_setpt['Savings'] - (1((max)base_sched_setpt.loc[months])-min(base_sched_setpt.loc[months]))/(max(base_sched_setpt.loc[months])))) * 100"
      ],
      "execution_count": 47,
      "outputs": [
        {
          "output_type": "error",
          "ename": "SyntaxError",
          "evalue": "ignored",
          "traceback": [
            "\u001b[0;36m  File \u001b[0;32m\"<ipython-input-47-5adb3a1c7f88>\"\u001b[0;36m, line \u001b[0;32m18\u001b[0m\n\u001b[0;31m    df.loc[months, 'savings'] = base_sched_setpt['Savings'] - (1((max)base_sched_setpt.loc[months])-min(base_sched_setpt.loc[months]))/(max(base_sched_setpt.loc[months])))) * 100\u001b[0m\n\u001b[0m                                                                                     ^\u001b[0m\n\u001b[0;31mSyntaxError\u001b[0m\u001b[0;31m:\u001b[0m invalid syntax\n"
          ]
        }
      ]
    },
    {
      "cell_type": "markdown",
      "metadata": {
        "id": "lcbmU5vupLLe"
      },
      "source": [
        "### Please write down the month with the **highest savings** and input it in Quiz 2.2"
      ]
    },
    {
      "cell_type": "code",
      "metadata": {
        "id": "a6C3MOOQTLqJ"
      },
      "source": [
        ""
      ],
      "execution_count": null,
      "outputs": []
    }
  ]
}